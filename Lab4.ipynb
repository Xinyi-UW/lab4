{
  "nbformat": 4,
  "nbformat_minor": 0,
  "metadata": {
    "colab": {
      "provenance": []
    },
    "kernelspec": {
      "name": "python3",
      "display_name": "Python 3"
    },
    "language_info": {
      "name": "python"
    }
  },
  "cells": [
    {
      "cell_type": "markdown",
      "source": [
        "Flood Fill function"
      ],
      "metadata": {
        "id": "s_lIcH_dXL3v"
      }
    },
    {
      "cell_type": "code",
      "source": [
        "def flood_fill(input_board, old, new, x, y):\n",
        "    \"\"\"Recursively fills connected cells with a new value based on the old value.\"\"\"\n",
        "    # Base case: Check if the coordinates (x, y) are out of bounds or if the cell is not the old value.\n",
        "    if x < 0 or x >= len(input_board) or y < 0 or y >= len(input_board[0]) or input_board[x][y] != old:\n",
        "        return\n",
        "\n",
        "    # Replace the old value with the new value at the current cell.\n",
        "    input_board[x] = input_board[x][:y] + new + input_board[x][y + 1:]\n",
        "\n",
        "    # Recursively fill adjacent cells.\n",
        "    flood_fill(input_board, old, new, x + 1, y)\n",
        "    flood_fill(input_board, old, new, x - 1, y)\n",
        "    flood_fill(input_board, old, new, x, y + 1)\n",
        "    flood_fill(input_board, old, new, x, y - 1)"
      ],
      "metadata": {
        "id": "IQ6UODNoXSf3"
      },
      "execution_count": 1,
      "outputs": []
    },
    {
      "cell_type": "code",
      "source": [],
      "metadata": {
        "id": "lA6UCPnDXlRw"
      },
      "execution_count": null,
      "outputs": []
    }
  ]
} 
[review the code already,The code is well-structured and easy to follow. The function parameters and the purpose of the function are clearly defined, which enhances readability.]
